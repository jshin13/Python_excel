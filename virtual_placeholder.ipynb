{
 "cells": [
  {
   "cell_type": "code",
   "execution_count": 1,
   "metadata": {},
   "outputs": [],
   "source": [
    "import pandas as pd\n",
    "import matplotlib.pyplot as plt"
   ]
  },
  {
   "cell_type": "code",
   "execution_count": 2,
   "metadata": {},
   "outputs": [],
   "source": [
    "vp_excel = pd.read_excel('virtual_placeholder.xlsx')"
   ]
  },
  {
   "cell_type": "code",
   "execution_count": 3,
   "metadata": {},
   "outputs": [
    {
     "data": {
      "text/plain": [
       "array(['Jaruga Barbara', 'Santamaria A. Ulisses', 'Jensen Peter',\n",
       "       'Horne F Elizabeth', 'Jones R Brittany'], dtype=object)"
      ]
     },
     "execution_count": 3,
     "metadata": {},
     "output_type": "execute_result"
    }
   ],
   "source": [
    "user_list = vp_excel['Old Value'][vp_excel['Field'] == 'Frozen By']\n",
    "\n",
    "user_list.unique()"
   ]
  },
  {
   "cell_type": "code",
   "execution_count": 4,
   "metadata": {},
   "outputs": [
    {
     "name": "stdout",
     "output_type": "stream",
     "text": [
      "[3, 13, 28, 14, 2]\n"
     ]
    },
    {
     "data": {
      "image/png": "[encoded data removed]",
      "text/plain": [
       "<Figure size 720x432 with 1 Axes>"
      ]
     },
     "metadata": {
      "needs_background": "light"
     },
     "output_type": "display_data"
    }
   ],
   "source": [
    "user_frq = []\n",
    "\n",
    "for i in range(len(user_list.unique())):\n",
    "    user_frq.append(len(user_list[user_list == user_list.unique()[i]]))\n",
    "\n",
    "print(user_frq)\n",
    "plt.subplots(figsize = (10,6))\n",
    "\n",
    "plt.bar(user_list.unique(), user_frq)\n",
    "plt.show()"
   ]
  },
  {
   "cell_type": "code",
   "execution_count": 5,
   "metadata": {},
   "outputs": [],
   "source": [
    "field_list = vp_excel['Field'].unique()"
   ]
  },
  {
   "cell_type": "code",
   "execution_count": 6,
   "metadata": {},
   "outputs": [
    {
     "data": {
      "text/plain": [
       "['Field',\n",
       " 'Cells Per Unit',\n",
       " 'ExternalPatient/InternalPatient',\n",
       " 'Volume',\n",
       " 'Date Frozen',\n",
       " 'Sample Barcode',\n",
       " 'Frozen By',\n",
       " 'Cell Type']"
      ]
     },
     "execution_count": 6,
     "metadata": {},
     "output_type": "execute_result"
    }
   ],
   "source": [
    "field_list_arr = []\n",
    "\n",
    "field_list_arr.append(field_list[0])\n",
    "field_list_arr.append(field_list[2])\n",
    "field_list_arr.append(field_list[5])\n",
    "field_list_arr.append(field_list[6])\n",
    "field_list_arr.append(field_list[9])\n",
    "field_list_arr.append(field_list[13])\n",
    "field_list_arr.append(field_list[14])\n",
    "field_list_arr.append(field_list[15])\n",
    "\n",
    "field_list_arr"
   ]
  },
  {
   "cell_type": "code",
   "execution_count": 7,
   "metadata": {},
   "outputs": [],
   "source": [
    "vp_excel_sorted_two = vp_excel.dropna(subset=['Old Value'])"
   ]
  },
  {
   "cell_type": "code",
   "execution_count": 8,
   "metadata": {
    "scrolled": true
   },
   "outputs": [
    {
     "name": "stderr",
     "output_type": "stream",
     "text": [
      "C:\\Users\\jongm\\Anaconda3\\lib\\site-packages\\ipykernel_launcher.py:3: SettingWithCopyWarning: \n",
      "A value is trying to be set on a copy of a slice from a DataFrame.\n",
      "Try using .loc[row_indexer,col_indexer] = value instead\n",
      "\n",
      "See the caveats in the documentation: http://pandas.pydata.org/pandas-docs/stable/indexing.html#indexing-view-versus-copy\n",
      "  This is separate from the ipykernel package so we can avoid doing imports until\n"
     ]
    }
   ],
   "source": [
    "count = 0\n",
    "vp_index = vp_excel_sorted_two.index.values\n",
    "vp_excel_sorted_two['Group'] = 0\n",
    "\n",
    "for i in vp_index:\n",
    "    \n",
    "    if vp_excel_sorted_two.at[i, 'status'] == 'DELETE':\n",
    "        count += 1\n",
    "    #print(count)\n",
    "    vp_excel_sorted_two.at[i, 'Group'] = count"
   ]
  },
  {
   "cell_type": "code",
   "execution_count": 9,
   "metadata": {
    "scrolled": true
   },
   "outputs": [
    {
     "name": "stderr",
     "output_type": "stream",
     "text": [
      "C:\\Users\\jongm\\Anaconda3\\lib\\site-packages\\ipykernel_launcher.py:19: FutureWarning: set_value is deprecated and will be removed in a future release. Please use .at[] or .iat[] accessors instead\n"
     ]
    }
   ],
   "source": [
    "#for i in \n",
    "\n",
    "idx = vp_excel_sorted_two[vp_excel_sorted_two['Field'] == field_list_arr[2]].index\n",
    "\n",
    "#print(idx)\n",
    "for i in range(len(idx)):\n",
    "    ind = str(vp_excel_sorted_two['Old Value'][idx].iloc[i])\n",
    "    fst = ind.rfind('name=')+5\n",
    "    lst = ind.rfind(';')\n",
    "        \n",
    "    ind_new = ind[fst:lst]\n",
    "\n",
    "    fst = ind.rfind('num=')+4\n",
    "    lst = len(ind)\n",
    "    ind[fst:lst]\n",
    "    \n",
    "    ind_new = ind_new + ' / ' + ind[fst:lst]\n",
    "    \n",
    "    vp_excel_sorted_two.set_value(idx[i], 'Old Value', ind_new)\n",
    "    \n",
    "    #print(idx[i])"
   ]
  },
  {
   "cell_type": "code",
   "execution_count": 10,
   "metadata": {
    "scrolled": true
   },
   "outputs": [],
   "source": [
    "group_id = []\n",
    "\n",
    "for i in vp_index:\n",
    "    if vp_excel_sorted_two.at[i, 'Old Value'] == user_list.unique()[2]:\n",
    "        group_id.append(vp_excel_sorted_two.at[i, 'Group'])\n",
    "        \n",
    "#group_id"
   ]
  },
  {
   "cell_type": "code",
   "execution_count": 11,
   "metadata": {},
   "outputs": [],
   "source": [
    "#for i in vp_index:\n",
    "vp_pete = pd.DataFrame(columns = vp_excel_sorted_two.columns)\n",
    "\n",
    "for j in group_id:\n",
    "    vp_pete = vp_pete.append(vp_excel_sorted_two[vp_excel_sorted_two['Group'] == j])\n",
    "            "
   ]
  },
  {
   "cell_type": "code",
   "execution_count": 12,
   "metadata": {
    "scrolled": true
   },
   "outputs": [],
   "source": [
    "#vp_pete"
   ]
  },
  {
   "cell_type": "code",
   "execution_count": 13,
   "metadata": {},
   "outputs": [],
   "source": [
    "#vp_pete.to_excel('Pete_only.xlsx')"
   ]
  },
  {
   "cell_type": "markdown",
   "metadata": {},
   "source": [
    "## Alternative way to slice DataFrame"
   ]
  },
  {
   "cell_type": "code",
   "execution_count": null,
   "metadata": {},
   "outputs": [],
   "source": [
    "vp_excel_sorted = vp_excel[vp_excel['Field'] == field_list_arr[0]]"
   ]
  },
  {
   "cell_type": "code",
   "execution_count": null,
   "metadata": {},
   "outputs": [],
   "source": [
    "vp_excel_sorted = pd.DataFrame()\n",
    "\n",
    "for i in range(len(field_list_arr)):\n",
    "    #print(i)\n",
    "    #temp_pd = vp_excel[vp_excel['Field'] == field_list_arr[i]]\n",
    "    vp_excel_sorted = vp_excel_sorted.append(vp_excel[vp_excel['Field'] == field_list_arr[i]])\n",
    "    \n",
    "vp_excel_sorted = vp_excel_sorted.sort_index()"
   ]
  }
 ],
 "metadata": {
  "kernelspec": {
   "display_name": "Python 3",
   "language": "python",
   "name": "python3"
  },
  "language_info": {
   "codemirror_mode": {
    "name": "ipython",
    "version": 3
   },
   "file_extension": ".py",
   "mimetype": "text/x-python",
   "name": "python",
   "nbconvert_exporter": "python",
   "pygments_lexer": "ipython3",
   "version": "3.7.3"
  }
 },
 "nbformat": 4,
 "nbformat_minor": 2
}
